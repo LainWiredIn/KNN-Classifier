{
  "cells": [
    {
      "cell_type": "markdown",
      "id": "improving-pepper",
      "metadata": {
        "id": "improving-pepper"
      },
      "source": [
        "# Assignment 1 - Question 3\n",
        "The objective of this assignment is to get you familiarize with  the  problem  of  `Linear Regression`.\n",
        "\n",
        "## Instructions\n",
        "- Write your code and analysis in the indicated cells.\n",
        "- Ensure that this notebook runs without errors when the cells are run in sequence.\n",
        "- Do not attempt to change the contents of other cells.\n",
        "- No inbuilt functions to be used until specified.\n",
        "\n",
        "## Submission\n",
        "- Ensure that this notebook runs without errors when the cells are run in sequence.\n",
        "- Rename the notebook to `<roll_number>_A1_Q3.ipynb`.\n",
        "\n",
        "### Announcements\n",
        "\n",
        "1. you can use sklearn for ridge and lasso regression."
      ]
    },
    {
      "cell_type": "markdown",
      "id": "final-transaction",
      "metadata": {
        "id": "final-transaction"
      },
      "source": [
        "## 1.3.0 Background about the dataset\n",
        "\n",
        "TLDR: You have 25 independent variables (`x1, x2, x3, ... , x25`) type: `float` for each data point. You can use a linear combination of these 25 independent variables to predict the y (dependent variable) of each data point."
      ]
    },
    {
      "cell_type": "code",
      "execution_count": 4,
      "id": "lyric-olympus",
      "metadata": {
        "id": "lyric-olympus"
      },
      "outputs": [],
      "source": [
        "import csv\n",
        "import random\n",
        "import numpy as np\n",
        "import matplotlib.pyplot as plt"
      ]
    },
    {
      "cell_type": "code",
      "source": [
        "from google.colab import drive\n",
        "drive.mount('/content/drive')"
      ],
      "metadata": {
        "colab": {
          "base_uri": "https://localhost:8080/"
        },
        "id": "J9__vE9_xU4C",
        "outputId": "985e5039-b72a-418e-8f46-287563be9d37"
      },
      "id": "J9__vE9_xU4C",
      "execution_count": 5,
      "outputs": [
        {
          "output_type": "stream",
          "name": "stdout",
          "text": [
            "Drive already mounted at /content/drive; to attempt to forcibly remount, call drive.mount(\"/content/drive\", force_remount=True).\n"
          ]
        }
      ]
    },
    {
      "cell_type": "code",
      "execution_count": 6,
      "id": "hundred-receipt",
      "metadata": {
        "id": "hundred-receipt"
      },
      "outputs": [],
      "source": [
        "train_data = list()\n",
        "with open('drive/MyDrive/train_q3.csv', 'r') as infile:\n",
        "    input_rows = csv.DictReader(infile)\n",
        "    for row in input_rows:\n",
        "        data_point = ([float(row['x1']), float(row['x2']), float(row['x3']),\n",
        "                       float(row['x4']), float(row['x5']), float(row['x6']),\n",
        "                        float(row['x7']), float(row['x8']), float(row['x9']),\n",
        "                        float(row['x10']), float(row['x11']), float(row['x12']),\n",
        "                        float(row['x13']), float(row['x14']), float(row['x15']),\n",
        "                        float(row['x16']), float(row['x17']), float(row['x18']),\n",
        "                        float(row['x19']), float(row['x20']), float(row['x21']),\n",
        "                        float(row['x22']), float(row['x23']), float(row['x24']),\n",
        "                        float(row['x25'])], float(row['y']))\n",
        "        train_data.append(data_point)\n",
        "        \n",
        "# each point in x_train has 25 values - 1 for each feature\n",
        "x_train = [x[0] for x in train_data]\n",
        "# each point in y_train has 1 value - the 'y' of the molecule\n",
        "y_train = [x[1] for x in train_data]\n",
        "\n",
        "\n",
        "test_data = list()\n",
        "with open('drive/MyDrive/test_q3.csv', 'r') as infile:\n",
        "    input_rows = csv.DictReader(infile)\n",
        "    for row in input_rows:\n",
        "        data_point = ([float(row['x1']), float(row['x2']), float(row['x3']),\n",
        "                        float(row['x4']), float(row['x5']), float(row['x6']),\n",
        "                        float(row['x7']), float(row['x8']), float(row['x9']),\n",
        "                        float(row['x10']), float(row['x11']), float(row['x12']),\n",
        "                        float(row['x13']), float(row['x14']), float(row['x15']),\n",
        "                        float(row['x16']), float(row['x17']), float(row['x18']),\n",
        "                        float(row['x19']), float(row['x20']), float(row['x21']),\n",
        "                        float(row['x22']), float(row['x23']), float(row['x24']),\n",
        "                        float(row['x25'])], float(row['y']))\n",
        "        test_data.append(data_point)\n",
        "\n",
        "x_test = [x[0] for x in test_data]\n",
        "y_test = [x[1] for x in test_data]"
      ]
    },
    {
      "cell_type": "markdown",
      "id": "square-direction",
      "metadata": {
        "id": "square-direction"
      },
      "source": [
        "### 1.3.1 Implement a Linear Regression model that minimizes the MSE **without using any libraries**. You may use NumPy to vectorize your code, but *do not use numpy.polyfit* or anything similar.\n",
        "\n",
        "1.3.1.1 Explain how you plan to implement Linear Regression in 5-10 lines.\n",
        "\n",
        "1.3.1.2 Implement Linear Regression using `x_train` and `y_train` as the train dataset.\n",
        "\n",
        "1.3.2.3 Choose the best learning rate and print the learning rate for which you achieved the best MSE.\n",
        "\n",
        "1.2.1.4 Make a [Parity Plot](https://en.wikipedia.org/wiki/Parity_plot) of your model's bandgap predictions on the test set with the actual values."
      ]
    },
    {
      "cell_type": "markdown",
      "id": "frozen-forth",
      "metadata": {
        "id": "frozen-forth"
      },
      "source": [
        "<!-- your answer to 1.3.1.1 -->\n",
        "`ANSWER 1.3.1.1`\n",
        "<br>\n",
        "$y = \\alpha + \\beta _1 x_1 + \\beta _2 x_2 + \\beta _3 x_3 + ... + \\beta _{25} x_{25}$ + $\\epsilon$\n",
        "- $\\epsilon$ is model error\n",
        "- $\\alpha$ is $y$-intercept\n",
        "- $\\beta _i$ is regression coefficient.\n",
        "\n",
        "- how to best fit to data? given $y = w^Tx$\n",
        "- need to minimize the cost function $J(w) = \\sum^N_{i=1} ((w^Tx_i+b)-y_i)^2$: quadratic function and hence convex by guarantee, very nice global minima sitting there. vectors here\n",
        "  - $w$ are parameters, is linear in terms of $w$.\n",
        "  - why square and not absolute? because easier to optimize, convex by default.\n",
        "\n",
        "- We can train the model by computing dot products on weights and adding a bias term. The weights are updated after every epoch, performing a gradient descent. The bias is then updated after each epoch and then it is updated and checked. The cost function is implemented by taking difference the between predicted values, squaring them, summing them and dividing by shape value. It can then be used to predict the models with the updated weights."
      ]
    },
    {
      "cell_type": "code",
      "execution_count": 10,
      "id": "angry-depression",
      "metadata": {
        "id": "angry-depression"
      },
      "outputs": [],
      "source": [
        "# 1.3.1.2\n",
        "# implement Linear Regression\n",
        "'''\n",
        "  our goal is to minimize the cost function, which for \n",
        "  linear regression is the ROOT MSE between predicted y and true y.\n",
        "'''\n",
        "x_train = np.array(x_train)\n",
        "y_train = np.array(y_train)\n",
        "x_test = np.array(x_test)\n",
        "y_test = np.array(y_test)\n",
        "\n",
        "# it appear that the scale of each variable is the same, so we omit normalization\n",
        "# Creating the gradient descent function\n",
        "  \n",
        "def GradientDescent(x, y, w, b, learning_rate, epochs):\n",
        "    cost_list = [0] * epochs\n",
        "   \n",
        "    for epoch in range(epochs):\n",
        "        z = x.dot(w) + b\n",
        "        \n",
        "        loss = z - y\n",
        "\n",
        "        weight_gradient = (1/len(y)) * np.dot(x.T,loss)\n",
        "        bias_gradient = np.sum(loss) / len(y)\n",
        "        cost = (0.5/len(y)) * np.sum((np.square(loss)))\n",
        "        cost_list[epoch] = cost\n",
        "\n",
        "        w = w - (learning_rate*weight_gradient)\n",
        "        b = b - (learning_rate*bias_gradient)\n",
        "        \n",
        "        # if (epoch%(epochs/10)==0):\n",
        "        #     print(\"Cost is:\",cost)\n",
        "\n",
        "        if cost < 0.0001:\n",
        "          break\n",
        "        \n",
        "    return w, b, cost_list\n",
        "\n",
        "def predict(w,b,x_test):\n",
        "  x_test = np.array(x_test)\n",
        "  y_pred = x_test.dot(w)+b\n",
        "  # y_pred = np.array(y_pred)\n",
        "  # print(len(y_pred))\n",
        "  # for ind, i in enumerate(x_test):\n",
        "    # y_pred[ind] = i.dot(w) + b\n",
        "\n",
        "  return y_pred\n",
        "\n",
        "def mse(actual, predicted):\n",
        "  sum_error = 0.0\n",
        "  for i in range(len(actual)):\n",
        "    sum_error = sum_error + ((predicted[i] - actual[i]) ** 2)\n",
        "  mean_error = sum_error / float(len(actual))\n",
        "  return np.sqrt(mean_error)\n",
        "\n",
        "# 1d to 2d conversion\n",
        "y_train = np.reshape(y_train, (-1, 1))\n",
        "\n",
        "w, bias, c = GradientDescent(x_train, y_train, np.zeros((x_train.shape[1], 1)), 0, 0.03, 10000)\n",
        "# print(\"bias is:\", bias)\n",
        "# print(c)\n",
        "# plt.plot(c)\n",
        "y_pred = predict(w,bias,x_test)\n",
        "# print(y_pred)\n",
        "\n"
      ]
    },
    {
      "cell_type": "code",
      "execution_count": 11,
      "id": "b19c0ac4",
      "metadata": {
        "id": "b19c0ac4",
        "colab": {
          "base_uri": "https://localhost:8080/",
          "height": 279
        },
        "outputId": "87e8da99-de4f-4d94-f29c-bf536154644e"
      },
      "outputs": [
        {
          "output_type": "display_data",
          "data": {
            "text/plain": [
              "<Figure size 432x288 with 1 Axes>"
            ],
            "image/png": "[encoded data removed]"
          },
          "metadata": {
            "needs_background": "light"
          }
        }
      ],
      "source": [
        "# 1.3.2.3\n",
        "# try with different learning rates and choose the best one\n",
        "learning_rates = np.arange(0.001, 0.2, 0.001)\n",
        "val=[]\n",
        "for i in learning_rates:\n",
        "  w, bias, c = GradientDescent(x_train, y_train, np.zeros((x_train.shape[1], 1)), 0,i, 10000)\n",
        "  val.append(mse(predict(w,bias,x_test),y_test))\n",
        "plt.plot(learning_rates,val)\n",
        "plt.xlabel(\"learning rates\")\n",
        "plt.ylabel(\"mse\")\n",
        "\n",
        "plt.show()\n",
        "  "
      ]
    },
    {
      "cell_type": "code",
      "execution_count": 12,
      "id": "foster-center",
      "metadata": {
        "id": "foster-center",
        "outputId": "4639ea22-c790-4cae-b8b5-dcca1ec31be8",
        "colab": {
          "base_uri": "https://localhost:8080/",
          "height": 458
        }
      },
      "outputs": [
        {
          "output_type": "display_data",
          "data": {
            "text/plain": [
              "<Figure size 504x504 with 1 Axes>"
            ],
            "image/png": "[encoded data removed]"
          },
          "metadata": {
            "needs_background": "light"
          }
        }
      ],
      "source": [
        "# 1.3.1.4\n",
        "# Get the predictions of x_test into `y_pred`\n",
        "\n",
        "fig, ax = plt.subplots(figsize=(7,7))\n",
        "\n",
        "ax.scatter(y_test, y_pred)\n",
        "\n",
        "lims = [\n",
        "    np.min([ax.get_xlim(), ax.get_ylim()]),\n",
        "    np.max([ax.get_xlim(), ax.get_ylim()]),\n",
        "]\n",
        "ax.plot(lims, lims, 'k-', alpha=0.75, zorder=0)\n",
        "ax.set_aspect('equal')\n",
        "ax.set_xlim(lims)\n",
        "ax.set_ylim(lims)\n",
        "\n",
        "ax.set_title('Parity Plot of Custom Linear Regression')\n",
        "ax.set_xlabel('Ground truth y-values')\n",
        "ax.set_ylabel('Predicted y-values')\n",
        "plt.show()"
      ]
    },
    {
      "cell_type": "markdown",
      "id": "dominant-chaos",
      "metadata": {
        "id": "dominant-chaos"
      },
      "source": [
        "### 1.3.2 Implement Ridge Regression\n",
        "\n",
        "1.3.2.1 Explain Ridge regression briefly in 1-2 lines.\n",
        "\n",
        "1.3.2.2 Implement Ridge regression and make a table of different RMSE scores you achieved with different values of alpha. What does the parameter `alpha` do?\n",
        "\n",
        "1.3.2.3 How does it affect the results here? Explain in 5-10 lines in total. (You can use scikit-learn from this cell onwards)\n",
        "\n",
        "1.3.2.4 Make a Parity Plot of Ridge Regression model's y-predictions on the test set with the actual values."
      ]
    },
    {
      "cell_type": "markdown",
      "id": "happy-cyprus",
      "metadata": {
        "id": "happy-cyprus"
      },
      "source": [
        "<!-- Your answer to 1.3.2.1 -->\n",
        "`1.3.2.1 Answer`\n",
        "Used for constraining model parameters, Ridge Regression, also known as L2 regression, is a technique used to analyze multi-linear regression (multicollinear), and used when predicted values are greater than the observed values. It adds a regularization penalty to the loss function during training."
      ]
    },
    {
      "cell_type": "code",
      "execution_count": 13,
      "id": "02a50a51",
      "metadata": {
        "id": "02a50a51"
      },
      "outputs": [],
      "source": [
        "# 1.3.2.2\n",
        "# you should not have imported sklearn before this point\n",
        "from numpy import mean\n",
        "from numpy import std\n",
        "from numpy import absolute\n",
        "from pandas import read_csv\n",
        "import sklearn\n",
        "from sklearn.model_selection import cross_val_score\n",
        "from sklearn.model_selection import RepeatedKFold\n",
        "from sklearn.linear_model import Ridge\n",
        "\n",
        "model = Ridge(alpha=0.0)\n",
        "model.fit(x_train,y_train)\n",
        "y_pred=model.predict(x_test)\n",
        "\n",
        "# Confusingly, the lambda term can be configured via the “alpha” argument when defining the class. \n",
        "\n",
        "# implement Ridge regression and make a table where you explore the effect of different values of `alpha`"
      ]
    },
    {
      "cell_type": "code",
      "source": [],
      "metadata": {
        "id": "5nxiQOy8E8B2"
      },
      "id": "5nxiQOy8E8B2",
      "execution_count": 13,
      "outputs": []
    },
    {
      "cell_type": "markdown",
      "id": "e54d36d9",
      "metadata": {
        "id": "e54d36d9"
      },
      "source": [
        "<!-- Your answer to 1.3.2.3 -->\n",
        "`1.3.2.3 Answer`\n",
        "- The paramter changes with time, RMSE decreases with increase in alpha and reaches a minima. However, the global minima was at value 0.0, which indicates that the curve could fit in completely without any penalization. This is because of the nature of the dataset and is not always the case as in real world datasets, there is correlation between parameters and hence regularization is of utmost importance to modify weights."
      ]
    },
    {
      "cell_type": "code",
      "execution_count": 14,
      "id": "e9d2c1e8",
      "metadata": {
        "id": "e9d2c1e8",
        "colab": {
          "base_uri": "https://localhost:8080/",
          "height": 458
        },
        "outputId": "5606182f-5d88-4f3e-e844-f6e053b9ff51"
      },
      "outputs": [
        {
          "output_type": "display_data",
          "data": {
            "text/plain": [
              "<Figure size 504x504 with 1 Axes>"
            ],
            "image/png": "[encoded data removed]"
          },
          "metadata": {
            "needs_background": "light"
          }
        }
      ],
      "source": [
        "# 1.3.2.4\n",
        "# Get the predictions of x_test into `y_pred`\n",
        "\n",
        "fig, ax = plt.subplots(figsize=(7,7))\n",
        "\n",
        "ax.scatter(y_test, y_pred)\n",
        "\n",
        "lims = [\n",
        "    np.min([ax.get_xlim(), ax.get_ylim()]),\n",
        "    np.max([ax.get_xlim(), ax.get_ylim()]),\n",
        "]\n",
        "ax.plot(lims, lims, 'k-', alpha=0.75, zorder=0)\n",
        "ax.set_aspect('equal')\n",
        "ax.set_xlim(lims)\n",
        "ax.set_ylim(lims)\n",
        "\n",
        "ax.set_title('Parity Plot of Custom Linear Regression')\n",
        "ax.set_xlabel('Ground truth y-values')\n",
        "ax.set_ylabel('Predicted y-values')\n",
        "plt.show()"
      ]
    },
    {
      "cell_type": "markdown",
      "id": "popular-wonder",
      "metadata": {
        "id": "popular-wonder"
      },
      "source": [
        "### 1.3.3 Implement Lasso Regression\n",
        "1.3.3.1 Explain Lasso regression briefly in 1-2 lines.\n",
        "\n",
        "1.3.3.2 Implement Lasso regression and make a table of different RMSE scores you achieved with different values of alpha.\n",
        "\n",
        "1.3.3.3 What does the parameter `alpha` do? How does it affect the results here? Explain in 5-10 lines in total.\n",
        "\n",
        "1.3.3.4 Make a Parity Plot of Lasso Regression model's y-predictions on the test set with the actual values."
      ]
    },
    {
      "cell_type": "markdown",
      "id": "mV9BlPIjm-K1",
      "metadata": {
        "id": "mV9BlPIjm-K1"
      },
      "source": [
        "<!-- Your answer to 1.3.3.1 -->\n",
        "`1.3.3.1 Answer`\n",
        "- Lasso regression is a regularization technique used over regression methods for a more accurate prediction. This model uses shrinkage, wherein data values are shrunk towards a central point as the mean."
      ]
    },
    {
      "cell_type": "code",
      "execution_count": 15,
      "id": "09148bbc",
      "metadata": {
        "id": "09148bbc"
      },
      "outputs": [],
      "source": [
        "# 1.3.3.2\n",
        "# implement Lasso regression and make a table where you explore the effect of different values of `alpha`\n",
        "\n",
        "from sklearn.linear_model import Lasso\n",
        "\n",
        "model2 = Lasso(alpha=0.01)\n",
        "model2.fit(x_train,y_train)\n",
        "y_pred = model2.predict(x_test)"
      ]
    },
    {
      "cell_type": "markdown",
      "id": "Hq5eyeqem-K2",
      "metadata": {
        "id": "Hq5eyeqem-K2"
      },
      "source": [
        "<!-- Your answer to 1.3.3.3 -->\n",
        "`1.3.3.3 Answer`\n",
        "- The parameter alpha, as we previously discussed, increases the significance of the penalising value (in this case, the coefficient sum), and after reaching a minima, it grows as the value increases, exhibiting a modest dependence in accordance with the L1-norm.\n",
        "The value in lasso regression exhibits a minor minima near 0.01 as was discussed in class regarding contours, and it will thereafter increase since the weights are being severely penalised and are therefore of little utility."
      ]
    },
    {
      "cell_type": "code",
      "execution_count": 16,
      "id": "accompanied-worst",
      "metadata": {
        "id": "accompanied-worst",
        "colab": {
          "base_uri": "https://localhost:8080/",
          "height": 458
        },
        "outputId": "2e2aed4f-03c5-4fa9-f8f4-6f41b84a9f95"
      },
      "outputs": [
        {
          "output_type": "display_data",
          "data": {
            "text/plain": [
              "<Figure size 504x504 with 1 Axes>"
            ],
            "image/png": "[encoded data removed]"
          },
          "metadata": {
            "needs_background": "light"
          }
        }
      ],
      "source": [
        "# 1.3.3.4\n",
        "fig, ax = plt.subplots(figsize=(7,7))\n",
        "\n",
        "ax.scatter(y_test, y_pred)\n",
        "\n",
        "lims = [\n",
        "    np.min([ax.get_xlim(), ax.get_ylim()]),\n",
        "    np.max([ax.get_xlim(), ax.get_ylim()]),\n",
        "]\n",
        "ax.plot(lims, lims, 'k-', alpha=0.75, zorder=0)\n",
        "ax.set_aspect('equal')\n",
        "ax.set_xlim(lims)\n",
        "ax.set_ylim(lims)\n",
        "\n",
        "ax.set_title('Parity Plot of Custom Linear Regression')\n",
        "ax.set_xlabel('Ground truth y-values')\n",
        "ax.set_ylabel('Predicted y-values')\n",
        "plt.show()"
      ]
    }
  ],
  "metadata": {
    "colab": {
      "provenance": []
    },
    "kernelspec": {
      "display_name": "Python 3 (ipykernel)",
      "language": "python",
      "name": "python3"
    },
    "language_info": {
      "codemirror_mode": {
        "name": "ipython",
        "version": 3
      },
      "file_extension": ".py",
      "mimetype": "text/x-python",
      "name": "python",
      "nbconvert_exporter": "python",
      "pygments_lexer": "ipython3",
      "version": "3.8.6"
    }
  },
  "nbformat": 4,
  "nbformat_minor": 5
}